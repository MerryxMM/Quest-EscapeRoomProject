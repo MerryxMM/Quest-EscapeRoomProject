{
  "cells": [
    {
      "cell_type": "code",
      "execution_count": null,
      "metadata": {
        "id": "7iPVj4uiqOcb"
      },
      "outputs": [],
      "source": [
        "couch = {\n",
        "    \"name\": \"couch\",\n",
        "    \"type\": \"furniture\",\n",
        "}\n",
        "\n",
        "door_a = {\n",
        "    \"name\": \"door a\",\n",
        "    \"type\": \"door\",\n",
        "}\n",
        "\n",
        "key_a = {\n",
        "    \"name\": \"key for door a\",\n",
        "    \"type\": \"key\",\n",
        "    \"target\": door_a,\n",
        "}\n",
        "\n",
        "piano = {\n",
        "    \"name\": \"piano\",\n",
        "    \"type\": \"furniture\",\n",
        "}\n",
        "\n",
        "game_room = {\n",
        "    \"name\": \"game room\",\n",
        "    \"type\": \"room\",\n",
        "}\n",
        "\n",
        "outside = {\n",
        "  \"name\": \"outside\",\n",
        "}\n",
        "\n",
        "queen_bed = {\n",
        "    \"name\": \"queen bed\",\n",
        "    \"type\": \"furniture\",\n",
        "}\n",
        "\n",
        "door_b = {\n",
        "    \"name\": \"door b\",\n",
        "    \"type\": \"door\",\n",
        "}\n",
        "\n",
        "door_c = {\n",
        "    \"name\": \"door c\",\n",
        "    \"type\": \"door\",\n",
        "}\n",
        "\n",
        "key_b = {\n",
        "    \"name\": \"key for door b\",\n",
        "    \"type\": \"key\",\n",
        "    \"target\": door_b,\n",
        "}\n",
        "\n",
        "bedroom_1 = {\n",
        "    \"name\": \"bedroom 1\",\n",
        "    \"type\": \"room\",\n",
        "}\n",
        "\n",
        "double_bed = {\n",
        "    \"name\": \"double bed\",\n",
        "    \"type\": \"furniture\",\n",
        "}\n",
        "\n",
        "dresser = {\n",
        "    \"name\": \"dresser\",\n",
        "    \"type\": \"furniture\",\n",
        "}\n",
        "\n",
        "key_c = {\n",
        "    \"name\": \"key for door c\",\n",
        "    \"type\": \"key\",\n",
        "    \"target\": door_c,\n",
        "}\n",
        "\n",
        "door_d = {\n",
        "    \"name\": \"door d\",\n",
        "    \"type\": \"door\",\n",
        "}\n",
        "\n",
        "key_d = {\n",
        "    \"name\": \"key for door d\",\n",
        "    \"type\": \"key\",\n",
        "    \"target\": door_d,\n",
        "}\n",
        "\n",
        "bedroom_2 = {\n",
        "    \"name\": \"bedroom 2\",\n",
        "    \"type\": \"room\",\n",
        "}\n",
        "\n",
        "dining_table = {\n",
        "    \"name\": \"dining table\",\n",
        "    \"type\": \"furniture\",\n",
        "}\n",
        "\n",
        "\n",
        "living_room = {\n",
        "    \"name\": \"living room\",\n",
        "    \"type\": \"room\",\n",
        "}\n",
        "\n",
        "all_rooms = [game_room, bedroom_1, bedroom_2, living_room, outside]\n",
        "\n",
        "all_doors = [door_a, door_b, door_c, door_d]\n",
        "\n",
        "# define which items/rooms are related\n",
        "\n",
        "object_relations = {\n",
        "    \"game room\": [couch, piano, door_a],\n",
        "    \"piano\": [key_a],\n",
        "    \"outside\": [door_a],\n",
        "    \"door a\": [bedroom_1, game_room],\n",
        "    \"door b\": [bedroom_1, bedroom_2],\n",
        "    \"queen bed\": [key_b],\n",
        "    \"bedroom 1\": [queen_bed, door_a, door_b, door_c],\n",
        "    \"double bed\": [key_c],\n",
        "    \"dresser\": [key_d],\n",
        "    \"door c\": [bedroom_1, living_room],\n",
        "    \"bedroom 2\": [dresser, double_bed, door_b],\n",
        "    \"living room\": [dining_table, door_c, door_d],\n",
        "    \"door d\": [outside],\n",
        "}\n",
        "\n",
        "# define game state. Do not directly change this dict.\n",
        "# Instead, when a new game starts, make a copy of this\n",
        "# dict and use the copy to store gameplay state. This\n",
        "# way you can replay the game multiple times.\n",
        "\n",
        "INIT_GAME_STATE = {\n",
        "    \"current_room\": game_room,\n",
        "    \"keys_collected\": [],\n",
        "    \"target_room\": outside\n",
        "}"
      ]
    },
    {
      "cell_type": "code",
      "execution_count": null,
      "metadata": {
        "id": "If_suxvVqXuu"
      },
      "outputs": [],
      "source": [
        "couch = {\n",
        "    \"name\": \"couch\",\n",
        "    \"type\": \"furniture\",\n",
        "}\n",
        "\n",
        "door_a = {\n",
        "    \"name\": \"door a\",\n",
        "    \"type\": \"door\",\n",
        "}\n",
        "\n",
        "key_a = {\n",
        "    \"name\": \"key for door a\",\n",
        "    \"type\": \"key\",\n",
        "    \"target\": door_a,\n",
        "}\n",
        "\n",
        "piano = {\n",
        "    \"name\": \"piano\",\n",
        "    \"type\": \"furniture\",\n",
        "}\n",
        "\n",
        "game_room = {\n",
        "    \"name\": \"game room\",\n",
        "    \"type\": \"room\",\n",
        "}\n",
        "\n",
        "outside = {\n",
        "  \"name\": \"outside\",\n",
        "}\n",
        "\n",
        "queen_bed = {\n",
        "    \"name\": \"queen bed\",\n",
        "    \"type\": \"furniture\",\n",
        "}\n",
        "\n",
        "door_b = {\n",
        "    \"name\": \"door b\",\n",
        "    \"type\": \"door\",\n",
        "}\n",
        "\n",
        "door_c = {\n",
        "    \"name\": \"door c\",\n",
        "    \"type\": \"door\",\n",
        "}\n",
        "\n",
        "key_b = {\n",
        "    \"name\": \"key for door b\",\n",
        "    \"type\": \"key\",\n",
        "    \"target\": door_b,\n",
        "}\n",
        "\n",
        "bedroom_1 = {\n",
        "    \"name\": \"bedroom 1\",\n",
        "    \"type\": \"room\",\n",
        "}\n",
        "\n",
        "double_bed = {\n",
        "    \"name\": \"double bed\",\n",
        "    \"type\": \"furniture\",\n",
        "}\n",
        "\n",
        "dresser = {\n",
        "    \"name\": \"dresser\",\n",
        "    \"type\": \"furniture\",\n",
        "}\n",
        "\n",
        "key_c = {\n",
        "    \"name\": \"key for door c\",\n",
        "    \"type\": \"key\",\n",
        "    \"target\": door_c,\n",
        "}\n",
        "\n",
        "door_d = {\n",
        "    \"name\": \"door d\",\n",
        "    \"type\": \"door\",\n",
        "}\n",
        "\n",
        "key_d = {\n",
        "    \"name\": \"key for door d\",\n",
        "    \"type\": \"key\",\n",
        "    \"target\": door_d,\n",
        "}\n",
        "\n",
        "bedroom_2 = {\n",
        "    \"name\": \"bedroom 2\",\n",
        "    \"type\": \"room\",\n",
        "}\n",
        "\n",
        "dining_table = {\n",
        "    \"name\": \"dining table\",\n",
        "    \"type\": \"furniture\",\n",
        "}\n",
        "\n",
        "\n",
        "living_room = {\n",
        "    \"name\": \"living room\",\n",
        "    \"type\": \"room\",\n",
        "}\n",
        "\n",
        "all_rooms = [game_room, bedroom_1, bedroom_2, living_room, outside]\n",
        "\n",
        "all_doors = [door_a, door_b, door_c, door_d]\n",
        "\n",
        "# define which items/rooms are related\n",
        "\n",
        "object_relations = {\n",
        "    \"game room\": [couch, piano, door_a],\n",
        "    \"piano\": [key_a],\n",
        "    \"outside\": [door_a],\n",
        "    \"door a\": [bedroom_1, game_room],\n",
        "    \"door b\": [bedroom_1, bedroom_2],\n",
        "    \"queen bed\": [key_b],\n",
        "    \"bedroom 1\": [queen_bed, door_a, door_b, door_c],\n",
        "    \"double bed\": [key_c],\n",
        "    \"dresser\": [key_d],\n",
        "    \"door c\": [bedroom_1, living_room],\n",
        "    \"bedroom 2\": [dresser, double_bed, door_b],\n",
        "    \"living room\": [dining_table, door_c, door_d],\n",
        "    \"door d\": [outside],\n",
        "}\n",
        "\n",
        "# define game state. Do not directly change this dict.\n",
        "# Instead, when a new game starts, make a copy of this\n",
        "# dict and use the copy to store gameplay state. This\n",
        "# way you can replay the game multiple times.\n",
        "\n",
        "INIT_GAME_STATE = {\n",
        "    \"current_room\": game_room,\n",
        "    \"keys_collected\": [],\n",
        "    \"target_room\": outside\n",
        "}"
      ]
    },
    {
      "cell_type": "code",
      "execution_count": null,
      "metadata": {
        "id": "1wGLNcclqcHW"
      },
      "outputs": [],
      "source": [
        "from IPython.display import Image, display\n",
        "\n",
        "def linebreak():\n",
        "    \"\"\"\n",
        "    Print a line break\n",
        "    \"\"\"\n",
        "    print(\"\\n\\n\")\n",
        "\n",
        "def start_game():\n",
        "    \"\"\"\n",
        "    Start the game\n",
        "    \"\"\"\n",
        "    display(Image(url='https://shorturl.at/GJSX3'))\n",
        "    print(\"You wake up on a couch and find yourself in a strange house. The house is unusual and you feel like someone is watching you.\\nYou don't remember how you got here or why. You want to go home!\")\n",
        "    play_room(game_state[\"current_room\"])\n",
        "\n",
        "def play_room(room):\n",
        "    \"\"\"\n",
        "    Play a room. First check if the room being played is the target room.\n",
        "    If it is, the game will end with success. Otherwise, let player either\n",
        "    explore (list all items in this room) or examine an item found here.\n",
        "    \"\"\"\n",
        "    game_state[\"current_room\"] = room\n",
        "    if game_state[\"current_room\"] == game_state[\"target_room\"]:\n",
        "        print(\"Congratulations! You escaped!\")\n",
        "        display(Image(url='https://shorturl.at/bisF3'))\n",
        "\n",
        "    else:\n",
        "        print(\"You are now in \" + room[\"name\"])\n",
        "        intended_action = input(\"What would you like to do? Type 'x' to explore or 'i' to inspect? \").strip()\n",
        "        if intended_action == \"x\":\n",
        "            explore_room(room)\n",
        "            play_room(room)\n",
        "        elif intended_action == \"i\":\n",
        "            examine_item(input(\"What would you like to inspect? \").strip())\n",
        "        else:\n",
        "            print(\"Not sure what you mean. Type 'x' to explore or 'i' to inspect.\")\n",
        "            play_room(room)\n",
        "        linebreak()\n",
        "\n",
        "def explore_room(room):\n",
        "    \"\"\"\n",
        "    Explore a room. List all items belonging to this room.\n",
        "    \"\"\"\n",
        "    items = [i[\"name\"] for i in object_relations[room[\"name\"]]]\n",
        "    print(\"You explore the room. This is \" + room[\"name\"] + \". You find \" + \", \".join(items))\n",
        "\n",
        "def get_next_room_of_door(door, current_room):\n",
        "    \"\"\"\n",
        "    From object_relations, find the two rooms connected to the given door.\n",
        "    Return the room that is not the current_room.\n",
        "    \"\"\"\n",
        "    connected_rooms = object_relations[door[\"name\"]]\n",
        "    for room in connected_rooms:\n",
        "        if(not current_room == room):\n",
        "            return room\n",
        "\n",
        "def examine_item(item_name):\n",
        "    \"\"\"\n",
        "    Examine an item which can be a door or furniture.\n",
        "    First make sure the intended item belongs to the current room.\n",
        "    Then check if the item is a door. Tell the player if the key hasn't been\n",
        "    collected yet. Otherwise, ask the player if they want to go to the next\n",
        "    room. If the item is not a door, then check if it contains keys.\n",
        "    Collect the key if found and update the game state. At the end,\n",
        "    play either the current or the next room depending on the game state\n",
        "    to keep playing.\n",
        "    \"\"\"\n",
        "    current_room = game_state[\"current_room\"]\n",
        "    next_room = \"\"\n",
        "    output = None\n",
        "\n",
        "    for item in object_relations[current_room[\"name\"]]:\n",
        "        if(item[\"name\"] == item_name):\n",
        "            output = \"You inspect \" + item_name + \". \"\n",
        "            if item[\"name\"] == \"door a\":\n",
        "              display(Image(url='https://shorturl.at/jyAES'))\n",
        "            elif item[\"name\"] == \"door b\":\n",
        "              display(Image(url='https://shorturl.at/qOTWX'))\n",
        "            elif item[\"name\"] == \"door c\":\n",
        "              display(Image(url='https://shorturl.at/npxV8'))\n",
        "            elif item[\"name\"] == \"door d\":\n",
        "              display(Image(url='https://shorturl.at/gwL56'))\n",
        "            if(item[\"type\"] == \"door\"):\n",
        "                have_key = False\n",
        "                for key in game_state[\"keys_collected\"]:\n",
        "                    if(key[\"target\"] == item):\n",
        "                        have_key = True\n",
        "                if(have_key):\n",
        "                    output += \"You try to unlock the door with the keys you have and it works!\"\n",
        "                    next_room = get_next_room_of_door(item, current_room)\n",
        "                else:\n",
        "                    output += \"It is locked and you don't have the key.\"\n",
        "                    display(Image(url='https://shorturl.at/kqDNR'))\n",
        "            else:\n",
        "                if(item[\"name\"] in object_relations and len(object_relations[item[\"name\"]])>0):\n",
        "                    item_found = object_relations[item[\"name\"]].pop()\n",
        "                    game_state[\"keys_collected\"].append(item_found)\n",
        "                    output += \"You find \" + item_found[\"name\"] + \".\"\n",
        "                    if item[\"name\"] == \"dresser\":\n",
        "                      display(Image(url='https://shorturl.at/dDG79'))\n",
        "                    if item[\"name\"] == \"piano\":\n",
        "                      display(Image(url='https://shorturl.at/evRU1'))\n",
        "                    if item[\"name\"] == \"double bed\":\n",
        "                      display(Image(url='https://shorturl.at/joZ38'))\n",
        "                    if item[\"name\"] == \"queen bed\":\n",
        "                      display(Image(url='https://shorturl.at/bgyV6'))\n",
        "                      display(Image(url='https://shorturl.at/drAH2'))\n",
        "                      output +=(\" \")\n",
        "                      under_bed = input(\"Do you want to check under the bed? (yes/no): \")\n",
        "                      if under_bed.lower() == \"yes\":\n",
        "                        display(Image(url='https://shorturl.at/acwST'))\n",
        "                        print(\"You found something under the bed!\")\n",
        "                      else:\n",
        "                        output += \" You chose not to check under the bed.\"\n",
        "                else:\n",
        "                    output += \"There isn't anything interesting about it.\"\n",
        "                    if item[\"name\"] == \"dining table\":\n",
        "                      output = \"Nothing to see here!\"\n",
        "                      display(Image(url='https://shorturl.at/pALW1'))\n",
        "                    if item[\"name\"] == \"couch\":\n",
        "                      display(Image(url='https://shorturl.at/bkMNS'))\n",
        "            print(output)\n",
        "            break\n",
        "\n",
        "    if output is None:\n",
        "      print(\"The item you requested is not found in the current room.\")\n",
        "      display(Image(url='https://shorturl.at/ktHLY'))\n",
        "\n",
        "    if next_room and input(\"Do you want to go to the next room? Enter 'yes' or 'no' \").strip() == 'yes':\n",
        "      if next_room[\"name\"] == \"bedroom 1\":\n",
        "        display(Image(url='https://shorturl.at/irz08'))\n",
        "      elif next_room[\"name\"] == \"bedroom 2\":\n",
        "        display(Image(url='https://shorturl.at/xzCWX'))\n",
        "      elif next_room[\"name\"] == \"living room\":\n",
        "        display(Image(url='https://shorturl.at/fmPY9'))\n",
        "      elif next_room[\"name\"] == \"outside\":\n",
        "        display(Image(url='https://shorturl.at/dfov2'))\n",
        "      play_room(next_room)\n",
        "\n",
        "    else:\n",
        "        play_room(current_room)"
      ]
    },
    {
      "cell_type": "code",
      "execution_count": null,
      "metadata": {
        "colab": {
          "base_uri": "https://localhost:8080/",
          "height": 1000
        },
        "id": "h73VNW0Rqj7H",
        "outputId": "c6ce373d-4533-4914-ac42-b619839e2ffc"
      },
      "outputs": [
        {
          "output_type": "display_data",
          "data": {
            "text/html": [
              "<img src=\"https://shorturl.at/GJSX3\"/>"
            ],
            "text/plain": [
              "<IPython.core.display.Image object>"
            ]
          },
          "metadata": {}
        },
        {
          "name": "stdout",
          "output_type": "stream",
          "text": [
            "You wake up on a couch and find yourself in a strange house. The house is unusual and you feel like someone is watching you.\n",
            "You don't remember how you got here or why. You want to go home!\n",
            "You are now in game room\n",
            "What would you like to do? Type 'x' to explore or 'i' to inspect? i\n",
            "What would you like to inspect? door a\n"
          ]
        },
        {
          "output_type": "display_data",
          "data": {
            "text/html": [
              "<img src=\"https://shorturl.at/jyAES\"/>"
            ],
            "text/plain": [
              "<IPython.core.display.Image object>"
            ]
          },
          "metadata": {}
        },
        {
          "output_type": "display_data",
          "data": {
            "text/html": [
              "<img src=\"https://shorturl.at/kqDNR\"/>"
            ],
            "text/plain": [
              "<IPython.core.display.Image object>"
            ]
          },
          "metadata": {}
        },
        {
          "name": "stdout",
          "output_type": "stream",
          "text": [
            "You inspect door a. It is locked and you don't have the key.\n",
            "You are now in game room\n",
            "What would you like to do? Type 'x' to explore or 'i' to inspect? i\n",
            "What would you like to inspect? couch\n"
          ]
        },
        {
          "output_type": "display_data",
          "data": {
            "text/html": [
              "<img src=\"https://shorturl.at/bkMNS\"/>"
            ],
            "text/plain": [
              "<IPython.core.display.Image object>"
            ]
          },
          "metadata": {}
        },
        {
          "name": "stdout",
          "output_type": "stream",
          "text": [
            "You inspect couch. There isn't anything interesting about it.\n",
            "You are now in game room\n",
            "What would you like to do? Type 'x' to explore or 'i' to inspect? i\n",
            "What would you like to inspect? piano\n"
          ]
        },
        {
          "output_type": "display_data",
          "data": {
            "text/html": [
              "<img src=\"https://shorturl.at/evRU1\"/>"
            ],
            "text/plain": [
              "<IPython.core.display.Image object>"
            ]
          },
          "metadata": {}
        },
        {
          "name": "stdout",
          "output_type": "stream",
          "text": [
            "You inspect piano. You find key for door a.\n",
            "You are now in game room\n",
            "What would you like to do? Type 'x' to explore or 'i' to inspect? i\n",
            "What would you like to inspect? door a\n"
          ]
        },
        {
          "output_type": "display_data",
          "data": {
            "text/html": [
              "<img src=\"https://shorturl.at/jyAES\"/>"
            ],
            "text/plain": [
              "<IPython.core.display.Image object>"
            ]
          },
          "metadata": {}
        },
        {
          "name": "stdout",
          "output_type": "stream",
          "text": [
            "You inspect door a. You try to unlock the door with the keys you have and it works!\n",
            "Do you want to go to the next room? Enter 'yes' or 'no' yes\n"
          ]
        },
        {
          "output_type": "display_data",
          "data": {
            "text/html": [
              "<img src=\"https://shorturl.at/irz08\"/>"
            ],
            "text/plain": [
              "<IPython.core.display.Image object>"
            ]
          },
          "metadata": {}
        },
        {
          "name": "stdout",
          "output_type": "stream",
          "text": [
            "You are now in bedroom 1\n",
            "What would you like to do? Type 'x' to explore or 'i' to inspect? i\n",
            "What would you like to inspect? queen bed\n"
          ]
        },
        {
          "output_type": "display_data",
          "data": {
            "text/html": [
              "<img src=\"https://shorturl.at/bgyV6\"/>"
            ],
            "text/plain": [
              "<IPython.core.display.Image object>"
            ]
          },
          "metadata": {}
        },
        {
          "output_type": "display_data",
          "data": {
            "text/html": [
              "<img src=\"https://shorturl.at/drAH2\"/>"
            ],
            "text/plain": [
              "<IPython.core.display.Image object>"
            ]
          },
          "metadata": {}
        },
        {
          "name": "stdout",
          "output_type": "stream",
          "text": [
            "Do you want to check under the bed? (yes/no): yes\n"
          ]
        },
        {
          "output_type": "display_data",
          "data": {
            "text/html": [
              "<img src=\"https://shorturl.at/acwST\"/>"
            ],
            "text/plain": [
              "<IPython.core.display.Image object>"
            ]
          },
          "metadata": {}
        },
        {
          "output_type": "stream",
          "name": "stdout",
          "text": [
            "You found something under the bed!\n",
            "You inspect queen bed. You find key for door b. \n",
            "You are now in bedroom 1\n"
          ]
        },
        {
          "output_type": "error",
          "ename": "KeyboardInterrupt",
          "evalue": "Interrupted by user",
          "traceback": [
            "\u001b[0;31m---------------------------------------------------------------------------\u001b[0m",
            "\u001b[0;31mKeyboardInterrupt\u001b[0m                         Traceback (most recent call last)",
            "\u001b[0;32m<ipython-input-8-2c0d15a1ff83>\u001b[0m in \u001b[0;36m<cell line: 3>\u001b[0;34m()\u001b[0m\n\u001b[1;32m      1\u001b[0m \u001b[0mgame_state\u001b[0m \u001b[0;34m=\u001b[0m \u001b[0mINIT_GAME_STATE\u001b[0m\u001b[0;34m.\u001b[0m\u001b[0mcopy\u001b[0m\u001b[0;34m(\u001b[0m\u001b[0;34m)\u001b[0m\u001b[0;34m\u001b[0m\u001b[0;34m\u001b[0m\u001b[0m\n\u001b[1;32m      2\u001b[0m \u001b[0;34m\u001b[0m\u001b[0m\n\u001b[0;32m----> 3\u001b[0;31m \u001b[0mstart_game\u001b[0m\u001b[0;34m(\u001b[0m\u001b[0;34m)\u001b[0m\u001b[0;34m\u001b[0m\u001b[0;34m\u001b[0m\u001b[0m\n\u001b[0m",
            "\u001b[0;32m<ipython-input-7-ac16f150d5d0>\u001b[0m in \u001b[0;36mstart_game\u001b[0;34m()\u001b[0m\n\u001b[1;32m     13\u001b[0m     \u001b[0mdisplay\u001b[0m\u001b[0;34m(\u001b[0m\u001b[0mImage\u001b[0m\u001b[0;34m(\u001b[0m\u001b[0murl\u001b[0m\u001b[0;34m=\u001b[0m\u001b[0;34m'https://shorturl.at/GJSX3'\u001b[0m\u001b[0;34m)\u001b[0m\u001b[0;34m)\u001b[0m\u001b[0;34m\u001b[0m\u001b[0;34m\u001b[0m\u001b[0m\n\u001b[1;32m     14\u001b[0m     \u001b[0mprint\u001b[0m\u001b[0;34m(\u001b[0m\u001b[0;34m\"You wake up on a couch and find yourself in a strange house. The house is unusual and you feel like someone is watching you.\\nYou don't remember how you got here or why. You want to go home!\"\u001b[0m\u001b[0;34m)\u001b[0m\u001b[0;34m\u001b[0m\u001b[0;34m\u001b[0m\u001b[0m\n\u001b[0;32m---> 15\u001b[0;31m     \u001b[0mplay_room\u001b[0m\u001b[0;34m(\u001b[0m\u001b[0mgame_state\u001b[0m\u001b[0;34m[\u001b[0m\u001b[0;34m\"current_room\"\u001b[0m\u001b[0;34m]\u001b[0m\u001b[0;34m)\u001b[0m\u001b[0;34m\u001b[0m\u001b[0;34m\u001b[0m\u001b[0m\n\u001b[0m\u001b[1;32m     16\u001b[0m \u001b[0;34m\u001b[0m\u001b[0m\n\u001b[1;32m     17\u001b[0m \u001b[0;32mdef\u001b[0m \u001b[0mplay_room\u001b[0m\u001b[0;34m(\u001b[0m\u001b[0mroom\u001b[0m\u001b[0;34m)\u001b[0m\u001b[0;34m:\u001b[0m\u001b[0;34m\u001b[0m\u001b[0;34m\u001b[0m\u001b[0m\n",
            "\u001b[0;32m<ipython-input-7-ac16f150d5d0>\u001b[0m in \u001b[0;36mplay_room\u001b[0;34m(room)\u001b[0m\n\u001b[1;32m     33\u001b[0m             \u001b[0mplay_room\u001b[0m\u001b[0;34m(\u001b[0m\u001b[0mroom\u001b[0m\u001b[0;34m)\u001b[0m\u001b[0;34m\u001b[0m\u001b[0;34m\u001b[0m\u001b[0m\n\u001b[1;32m     34\u001b[0m         \u001b[0;32melif\u001b[0m \u001b[0mintended_action\u001b[0m \u001b[0;34m==\u001b[0m \u001b[0;34m\"i\"\u001b[0m\u001b[0;34m:\u001b[0m\u001b[0;34m\u001b[0m\u001b[0;34m\u001b[0m\u001b[0m\n\u001b[0;32m---> 35\u001b[0;31m             \u001b[0mexamine_item\u001b[0m\u001b[0;34m(\u001b[0m\u001b[0minput\u001b[0m\u001b[0;34m(\u001b[0m\u001b[0;34m\"What would you like to inspect? \"\u001b[0m\u001b[0;34m)\u001b[0m\u001b[0;34m.\u001b[0m\u001b[0mstrip\u001b[0m\u001b[0;34m(\u001b[0m\u001b[0;34m)\u001b[0m\u001b[0;34m)\u001b[0m\u001b[0;34m\u001b[0m\u001b[0;34m\u001b[0m\u001b[0m\n\u001b[0m\u001b[1;32m     36\u001b[0m         \u001b[0;32melse\u001b[0m\u001b[0;34m:\u001b[0m\u001b[0;34m\u001b[0m\u001b[0;34m\u001b[0m\u001b[0m\n\u001b[1;32m     37\u001b[0m             \u001b[0mprint\u001b[0m\u001b[0;34m(\u001b[0m\u001b[0;34m\"Not sure what you mean. Type 'x' to explore or 'i' to inspect.\"\u001b[0m\u001b[0;34m)\u001b[0m\u001b[0;34m\u001b[0m\u001b[0;34m\u001b[0m\u001b[0m\n",
            "\u001b[0;32m<ipython-input-7-ac16f150d5d0>\u001b[0m in \u001b[0;36mexamine_item\u001b[0;34m(item_name)\u001b[0m\n\u001b[1;32m    140\u001b[0m \u001b[0;34m\u001b[0m\u001b[0m\n\u001b[1;32m    141\u001b[0m     \u001b[0;32melse\u001b[0m\u001b[0;34m:\u001b[0m\u001b[0;34m\u001b[0m\u001b[0;34m\u001b[0m\u001b[0m\n\u001b[0;32m--> 142\u001b[0;31m         \u001b[0mplay_room\u001b[0m\u001b[0;34m(\u001b[0m\u001b[0mcurrent_room\u001b[0m\u001b[0;34m)\u001b[0m\u001b[0;34m\u001b[0m\u001b[0;34m\u001b[0m\u001b[0m\n\u001b[0m",
            "\u001b[0;32m<ipython-input-7-ac16f150d5d0>\u001b[0m in \u001b[0;36mplay_room\u001b[0;34m(room)\u001b[0m\n\u001b[1;32m     33\u001b[0m             \u001b[0mplay_room\u001b[0m\u001b[0;34m(\u001b[0m\u001b[0mroom\u001b[0m\u001b[0;34m)\u001b[0m\u001b[0;34m\u001b[0m\u001b[0;34m\u001b[0m\u001b[0m\n\u001b[1;32m     34\u001b[0m         \u001b[0;32melif\u001b[0m \u001b[0mintended_action\u001b[0m \u001b[0;34m==\u001b[0m \u001b[0;34m\"i\"\u001b[0m\u001b[0;34m:\u001b[0m\u001b[0;34m\u001b[0m\u001b[0;34m\u001b[0m\u001b[0m\n\u001b[0;32m---> 35\u001b[0;31m             \u001b[0mexamine_item\u001b[0m\u001b[0;34m(\u001b[0m\u001b[0minput\u001b[0m\u001b[0;34m(\u001b[0m\u001b[0;34m\"What would you like to inspect? \"\u001b[0m\u001b[0;34m)\u001b[0m\u001b[0;34m.\u001b[0m\u001b[0mstrip\u001b[0m\u001b[0;34m(\u001b[0m\u001b[0;34m)\u001b[0m\u001b[0;34m)\u001b[0m\u001b[0;34m\u001b[0m\u001b[0;34m\u001b[0m\u001b[0m\n\u001b[0m\u001b[1;32m     36\u001b[0m         \u001b[0;32melse\u001b[0m\u001b[0;34m:\u001b[0m\u001b[0;34m\u001b[0m\u001b[0;34m\u001b[0m\u001b[0m\n\u001b[1;32m     37\u001b[0m             \u001b[0mprint\u001b[0m\u001b[0;34m(\u001b[0m\u001b[0;34m\"Not sure what you mean. Type 'x' to explore or 'i' to inspect.\"\u001b[0m\u001b[0;34m)\u001b[0m\u001b[0;34m\u001b[0m\u001b[0;34m\u001b[0m\u001b[0m\n",
            "\u001b[0;32m<ipython-input-7-ac16f150d5d0>\u001b[0m in \u001b[0;36mexamine_item\u001b[0;34m(item_name)\u001b[0m\n\u001b[1;32m    140\u001b[0m \u001b[0;34m\u001b[0m\u001b[0m\n\u001b[1;32m    141\u001b[0m     \u001b[0;32melse\u001b[0m\u001b[0;34m:\u001b[0m\u001b[0;34m\u001b[0m\u001b[0;34m\u001b[0m\u001b[0m\n\u001b[0;32m--> 142\u001b[0;31m         \u001b[0mplay_room\u001b[0m\u001b[0;34m(\u001b[0m\u001b[0mcurrent_room\u001b[0m\u001b[0;34m)\u001b[0m\u001b[0;34m\u001b[0m\u001b[0;34m\u001b[0m\u001b[0m\n\u001b[0m",
            "\u001b[0;32m<ipython-input-7-ac16f150d5d0>\u001b[0m in \u001b[0;36mplay_room\u001b[0;34m(room)\u001b[0m\n\u001b[1;32m     33\u001b[0m             \u001b[0mplay_room\u001b[0m\u001b[0;34m(\u001b[0m\u001b[0mroom\u001b[0m\u001b[0;34m)\u001b[0m\u001b[0;34m\u001b[0m\u001b[0;34m\u001b[0m\u001b[0m\n\u001b[1;32m     34\u001b[0m         \u001b[0;32melif\u001b[0m \u001b[0mintended_action\u001b[0m \u001b[0;34m==\u001b[0m \u001b[0;34m\"i\"\u001b[0m\u001b[0;34m:\u001b[0m\u001b[0;34m\u001b[0m\u001b[0;34m\u001b[0m\u001b[0m\n\u001b[0;32m---> 35\u001b[0;31m             \u001b[0mexamine_item\u001b[0m\u001b[0;34m(\u001b[0m\u001b[0minput\u001b[0m\u001b[0;34m(\u001b[0m\u001b[0;34m\"What would you like to inspect? \"\u001b[0m\u001b[0;34m)\u001b[0m\u001b[0;34m.\u001b[0m\u001b[0mstrip\u001b[0m\u001b[0;34m(\u001b[0m\u001b[0;34m)\u001b[0m\u001b[0;34m)\u001b[0m\u001b[0;34m\u001b[0m\u001b[0;34m\u001b[0m\u001b[0m\n\u001b[0m\u001b[1;32m     36\u001b[0m         \u001b[0;32melse\u001b[0m\u001b[0;34m:\u001b[0m\u001b[0;34m\u001b[0m\u001b[0;34m\u001b[0m\u001b[0m\n\u001b[1;32m     37\u001b[0m             \u001b[0mprint\u001b[0m\u001b[0;34m(\u001b[0m\u001b[0;34m\"Not sure what you mean. Type 'x' to explore or 'i' to inspect.\"\u001b[0m\u001b[0;34m)\u001b[0m\u001b[0;34m\u001b[0m\u001b[0;34m\u001b[0m\u001b[0m\n",
            "\u001b[0;32m<ipython-input-7-ac16f150d5d0>\u001b[0m in \u001b[0;36mexamine_item\u001b[0;34m(item_name)\u001b[0m\n\u001b[1;32m    140\u001b[0m \u001b[0;34m\u001b[0m\u001b[0m\n\u001b[1;32m    141\u001b[0m     \u001b[0;32melse\u001b[0m\u001b[0;34m:\u001b[0m\u001b[0;34m\u001b[0m\u001b[0;34m\u001b[0m\u001b[0m\n\u001b[0;32m--> 142\u001b[0;31m         \u001b[0mplay_room\u001b[0m\u001b[0;34m(\u001b[0m\u001b[0mcurrent_room\u001b[0m\u001b[0;34m)\u001b[0m\u001b[0;34m\u001b[0m\u001b[0;34m\u001b[0m\u001b[0m\n\u001b[0m",
            "\u001b[0;32m<ipython-input-7-ac16f150d5d0>\u001b[0m in \u001b[0;36mplay_room\u001b[0;34m(room)\u001b[0m\n\u001b[1;32m     33\u001b[0m             \u001b[0mplay_room\u001b[0m\u001b[0;34m(\u001b[0m\u001b[0mroom\u001b[0m\u001b[0;34m)\u001b[0m\u001b[0;34m\u001b[0m\u001b[0;34m\u001b[0m\u001b[0m\n\u001b[1;32m     34\u001b[0m         \u001b[0;32melif\u001b[0m \u001b[0mintended_action\u001b[0m \u001b[0;34m==\u001b[0m \u001b[0;34m\"i\"\u001b[0m\u001b[0;34m:\u001b[0m\u001b[0;34m\u001b[0m\u001b[0;34m\u001b[0m\u001b[0m\n\u001b[0;32m---> 35\u001b[0;31m             \u001b[0mexamine_item\u001b[0m\u001b[0;34m(\u001b[0m\u001b[0minput\u001b[0m\u001b[0;34m(\u001b[0m\u001b[0;34m\"What would you like to inspect? \"\u001b[0m\u001b[0;34m)\u001b[0m\u001b[0;34m.\u001b[0m\u001b[0mstrip\u001b[0m\u001b[0;34m(\u001b[0m\u001b[0;34m)\u001b[0m\u001b[0;34m)\u001b[0m\u001b[0;34m\u001b[0m\u001b[0;34m\u001b[0m\u001b[0m\n\u001b[0m\u001b[1;32m     36\u001b[0m         \u001b[0;32melse\u001b[0m\u001b[0;34m:\u001b[0m\u001b[0;34m\u001b[0m\u001b[0;34m\u001b[0m\u001b[0m\n\u001b[1;32m     37\u001b[0m             \u001b[0mprint\u001b[0m\u001b[0;34m(\u001b[0m\u001b[0;34m\"Not sure what you mean. Type 'x' to explore or 'i' to inspect.\"\u001b[0m\u001b[0;34m)\u001b[0m\u001b[0;34m\u001b[0m\u001b[0;34m\u001b[0m\u001b[0m\n",
            "\u001b[0;32m<ipython-input-7-ac16f150d5d0>\u001b[0m in \u001b[0;36mexamine_item\u001b[0;34m(item_name)\u001b[0m\n\u001b[1;32m    137\u001b[0m       \u001b[0;32melif\u001b[0m \u001b[0mnext_room\u001b[0m\u001b[0;34m[\u001b[0m\u001b[0;34m\"name\"\u001b[0m\u001b[0;34m]\u001b[0m \u001b[0;34m==\u001b[0m \u001b[0;34m\"outside\"\u001b[0m\u001b[0;34m:\u001b[0m\u001b[0;34m\u001b[0m\u001b[0;34m\u001b[0m\u001b[0m\n\u001b[1;32m    138\u001b[0m         \u001b[0mdisplay\u001b[0m\u001b[0;34m(\u001b[0m\u001b[0mImage\u001b[0m\u001b[0;34m(\u001b[0m\u001b[0murl\u001b[0m\u001b[0;34m=\u001b[0m\u001b[0;34m'https://shorturl.at/dfov2'\u001b[0m\u001b[0;34m)\u001b[0m\u001b[0;34m)\u001b[0m\u001b[0;34m\u001b[0m\u001b[0;34m\u001b[0m\u001b[0m\n\u001b[0;32m--> 139\u001b[0;31m       \u001b[0mplay_room\u001b[0m\u001b[0;34m(\u001b[0m\u001b[0mnext_room\u001b[0m\u001b[0;34m)\u001b[0m\u001b[0;34m\u001b[0m\u001b[0;34m\u001b[0m\u001b[0m\n\u001b[0m\u001b[1;32m    140\u001b[0m \u001b[0;34m\u001b[0m\u001b[0m\n\u001b[1;32m    141\u001b[0m     \u001b[0;32melse\u001b[0m\u001b[0;34m:\u001b[0m\u001b[0;34m\u001b[0m\u001b[0;34m\u001b[0m\u001b[0m\n",
            "\u001b[0;32m<ipython-input-7-ac16f150d5d0>\u001b[0m in \u001b[0;36mplay_room\u001b[0;34m(room)\u001b[0m\n\u001b[1;32m     33\u001b[0m             \u001b[0mplay_room\u001b[0m\u001b[0;34m(\u001b[0m\u001b[0mroom\u001b[0m\u001b[0;34m)\u001b[0m\u001b[0;34m\u001b[0m\u001b[0;34m\u001b[0m\u001b[0m\n\u001b[1;32m     34\u001b[0m         \u001b[0;32melif\u001b[0m \u001b[0mintended_action\u001b[0m \u001b[0;34m==\u001b[0m \u001b[0;34m\"i\"\u001b[0m\u001b[0;34m:\u001b[0m\u001b[0;34m\u001b[0m\u001b[0;34m\u001b[0m\u001b[0m\n\u001b[0;32m---> 35\u001b[0;31m             \u001b[0mexamine_item\u001b[0m\u001b[0;34m(\u001b[0m\u001b[0minput\u001b[0m\u001b[0;34m(\u001b[0m\u001b[0;34m\"What would you like to inspect? \"\u001b[0m\u001b[0;34m)\u001b[0m\u001b[0;34m.\u001b[0m\u001b[0mstrip\u001b[0m\u001b[0;34m(\u001b[0m\u001b[0;34m)\u001b[0m\u001b[0;34m)\u001b[0m\u001b[0;34m\u001b[0m\u001b[0;34m\u001b[0m\u001b[0m\n\u001b[0m\u001b[1;32m     36\u001b[0m         \u001b[0;32melse\u001b[0m\u001b[0;34m:\u001b[0m\u001b[0;34m\u001b[0m\u001b[0;34m\u001b[0m\u001b[0m\n\u001b[1;32m     37\u001b[0m             \u001b[0mprint\u001b[0m\u001b[0;34m(\u001b[0m\u001b[0;34m\"Not sure what you mean. Type 'x' to explore or 'i' to inspect.\"\u001b[0m\u001b[0;34m)\u001b[0m\u001b[0;34m\u001b[0m\u001b[0;34m\u001b[0m\u001b[0m\n",
            "\u001b[0;32m<ipython-input-7-ac16f150d5d0>\u001b[0m in \u001b[0;36mexamine_item\u001b[0;34m(item_name)\u001b[0m\n\u001b[1;32m    140\u001b[0m \u001b[0;34m\u001b[0m\u001b[0m\n\u001b[1;32m    141\u001b[0m     \u001b[0;32melse\u001b[0m\u001b[0;34m:\u001b[0m\u001b[0;34m\u001b[0m\u001b[0;34m\u001b[0m\u001b[0m\n\u001b[0;32m--> 142\u001b[0;31m         \u001b[0mplay_room\u001b[0m\u001b[0;34m(\u001b[0m\u001b[0mcurrent_room\u001b[0m\u001b[0;34m)\u001b[0m\u001b[0;34m\u001b[0m\u001b[0;34m\u001b[0m\u001b[0m\n\u001b[0m",
            "\u001b[0;32m<ipython-input-7-ac16f150d5d0>\u001b[0m in \u001b[0;36mplay_room\u001b[0;34m(room)\u001b[0m\n\u001b[1;32m     28\u001b[0m     \u001b[0;32melse\u001b[0m\u001b[0;34m:\u001b[0m\u001b[0;34m\u001b[0m\u001b[0;34m\u001b[0m\u001b[0m\n\u001b[1;32m     29\u001b[0m         \u001b[0mprint\u001b[0m\u001b[0;34m(\u001b[0m\u001b[0;34m\"You are now in \"\u001b[0m \u001b[0;34m+\u001b[0m \u001b[0mroom\u001b[0m\u001b[0;34m[\u001b[0m\u001b[0;34m\"name\"\u001b[0m\u001b[0;34m]\u001b[0m\u001b[0;34m)\u001b[0m\u001b[0;34m\u001b[0m\u001b[0;34m\u001b[0m\u001b[0m\n\u001b[0;32m---> 30\u001b[0;31m         \u001b[0mintended_action\u001b[0m \u001b[0;34m=\u001b[0m \u001b[0minput\u001b[0m\u001b[0;34m(\u001b[0m\u001b[0;34m\"What would you like to do? Type 'x' to explore or 'i' to inspect? \"\u001b[0m\u001b[0;34m)\u001b[0m\u001b[0;34m.\u001b[0m\u001b[0mstrip\u001b[0m\u001b[0;34m(\u001b[0m\u001b[0;34m)\u001b[0m\u001b[0;34m\u001b[0m\u001b[0;34m\u001b[0m\u001b[0m\n\u001b[0m\u001b[1;32m     31\u001b[0m         \u001b[0;32mif\u001b[0m \u001b[0mintended_action\u001b[0m \u001b[0;34m==\u001b[0m \u001b[0;34m\"x\"\u001b[0m\u001b[0;34m:\u001b[0m\u001b[0;34m\u001b[0m\u001b[0;34m\u001b[0m\u001b[0m\n\u001b[1;32m     32\u001b[0m             \u001b[0mexplore_room\u001b[0m\u001b[0;34m(\u001b[0m\u001b[0mroom\u001b[0m\u001b[0;34m)\u001b[0m\u001b[0;34m\u001b[0m\u001b[0;34m\u001b[0m\u001b[0m\n",
            "\u001b[0;32m/usr/local/lib/python3.10/dist-packages/ipykernel/kernelbase.py\u001b[0m in \u001b[0;36mraw_input\u001b[0;34m(self, prompt)\u001b[0m\n\u001b[1;32m    849\u001b[0m                 \u001b[0;34m\"raw_input was called, but this frontend does not support input requests.\"\u001b[0m\u001b[0;34m\u001b[0m\u001b[0;34m\u001b[0m\u001b[0m\n\u001b[1;32m    850\u001b[0m             )\n\u001b[0;32m--> 851\u001b[0;31m         return self._input_request(str(prompt),\n\u001b[0m\u001b[1;32m    852\u001b[0m             \u001b[0mself\u001b[0m\u001b[0;34m.\u001b[0m\u001b[0m_parent_ident\u001b[0m\u001b[0;34m,\u001b[0m\u001b[0;34m\u001b[0m\u001b[0;34m\u001b[0m\u001b[0m\n\u001b[1;32m    853\u001b[0m             \u001b[0mself\u001b[0m\u001b[0;34m.\u001b[0m\u001b[0m_parent_header\u001b[0m\u001b[0;34m,\u001b[0m\u001b[0;34m\u001b[0m\u001b[0;34m\u001b[0m\u001b[0m\n",
            "\u001b[0;32m/usr/local/lib/python3.10/dist-packages/ipykernel/kernelbase.py\u001b[0m in \u001b[0;36m_input_request\u001b[0;34m(self, prompt, ident, parent, password)\u001b[0m\n\u001b[1;32m    893\u001b[0m             \u001b[0;32mexcept\u001b[0m \u001b[0mKeyboardInterrupt\u001b[0m\u001b[0;34m:\u001b[0m\u001b[0;34m\u001b[0m\u001b[0;34m\u001b[0m\u001b[0m\n\u001b[1;32m    894\u001b[0m                 \u001b[0;31m# re-raise KeyboardInterrupt, to truncate traceback\u001b[0m\u001b[0;34m\u001b[0m\u001b[0;34m\u001b[0m\u001b[0m\n\u001b[0;32m--> 895\u001b[0;31m                 \u001b[0;32mraise\u001b[0m \u001b[0mKeyboardInterrupt\u001b[0m\u001b[0;34m(\u001b[0m\u001b[0;34m\"Interrupted by user\"\u001b[0m\u001b[0;34m)\u001b[0m \u001b[0;32mfrom\u001b[0m \u001b[0;32mNone\u001b[0m\u001b[0;34m\u001b[0m\u001b[0;34m\u001b[0m\u001b[0m\n\u001b[0m\u001b[1;32m    896\u001b[0m             \u001b[0;32mexcept\u001b[0m \u001b[0mException\u001b[0m \u001b[0;32mas\u001b[0m \u001b[0me\u001b[0m\u001b[0;34m:\u001b[0m\u001b[0;34m\u001b[0m\u001b[0;34m\u001b[0m\u001b[0m\n\u001b[1;32m    897\u001b[0m                 \u001b[0mself\u001b[0m\u001b[0;34m.\u001b[0m\u001b[0mlog\u001b[0m\u001b[0;34m.\u001b[0m\u001b[0mwarning\u001b[0m\u001b[0;34m(\u001b[0m\u001b[0;34m\"Invalid Message:\"\u001b[0m\u001b[0;34m,\u001b[0m \u001b[0mexc_info\u001b[0m\u001b[0;34m=\u001b[0m\u001b[0;32mTrue\u001b[0m\u001b[0;34m)\u001b[0m\u001b[0;34m\u001b[0m\u001b[0;34m\u001b[0m\u001b[0m\n",
            "\u001b[0;31mKeyboardInterrupt\u001b[0m: Interrupted by user"
          ]
        }
      ],
      "source": [
        "game_state = INIT_GAME_STATE.copy()\n",
        "\n",
        "start_game()"
      ]
    }
  ],
  "metadata": {
    "colab": {
      "provenance": []
    },
    "kernelspec": {
      "display_name": "Python 3",
      "name": "python3"
    },
    "language_info": {
      "name": "python"
    }
  },
  "nbformat": 4,
  "nbformat_minor": 0
}